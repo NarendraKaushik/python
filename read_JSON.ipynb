{
 "cells": [
  {
   "cell_type": "markdown",
   "id": "79b4169a",
   "metadata": {},
   "source": [
    "## Import required libraries / packages"
   ]
  },
  {
   "cell_type": "code",
   "execution_count": 1,
   "id": "48f24e5c",
   "metadata": {},
   "outputs": [],
   "source": [
    "import json\n",
    "#import pandas as pd\n",
    "#import os\n",
    "import csv\n",
    "#from pprint import pprint\n",
    "\n",
    "#print(os.getcwd())"
   ]
  },
  {
   "cell_type": "markdown",
   "id": "b8077dbc",
   "metadata": {},
   "source": [
    "## Open JSON file that we need to read"
   ]
  },
  {
   "cell_type": "code",
   "execution_count": 2,
   "id": "0f96196e",
   "metadata": {},
   "outputs": [],
   "source": [
    "# Opening JSON file\n",
    "with open('procurement.json') as f:\n",
    "    data = json.load(f)\n",
    "#pprint(data)"
   ]
  },
  {
   "cell_type": "markdown",
   "id": "3a3981d8",
   "metadata": {},
   "source": [
    "## Create a field list that we need to extract from JSON file"
   ]
  },
  {
   "cell_type": "code",
   "execution_count": 3,
   "id": "9e20f17b",
   "metadata": {},
   "outputs": [],
   "source": [
    "# Fields to be extracted from JSON file\n",
    "# \"Languages supported\" is covered in 'notes'\n",
    "fields_list = [\"name\",\"solution_type\", \"release_stage\", \"access\", \"notes\", \n",
    "               \"fields_returned\", \"file_types\", \n",
    "              \"max_pages_sync\", \"max_pages_async\", \"max_file_size\"]"
   ]
  },
  {
   "cell_type": "markdown",
   "id": "1625f8e4",
   "metadata": {},
   "source": [
    "## Create a recursive function to extract above fields from JSON file"
   ]
  },
  {
   "cell_type": "code",
   "execution_count": 4,
   "id": "a18c3f0a",
   "metadata": {},
   "outputs": [],
   "source": [
    "\"\"\"Extract nested values from a JSON tree.\"\"\"\n",
    "def json_extract2(obj, key):\n",
    "    \"\"\"Recursively fetch values from nested JSON.\"\"\"\n",
    "    arr = []\n",
    "    def parse_json_recursively(json_object, target_key):\n",
    "        if type(json_object) is dict and json_object:\n",
    "            for key in json_object:\n",
    "                if key == target_key:\n",
    "                    print(\"{}: {}\".format(target_key, json_object[key]))\n",
    "                    arr.append(json_object[key])\n",
    "                parse_json_recursively(json_object[key], target_key)\n",
    "        elif type(json_object) is list and json_object:\n",
    "            for item in json_object:\n",
    "                parse_json_recursively(item, target_key)\n",
    "        return arr\n",
    "    values = parse_json_recursively(obj, key)\n",
    "    return values   "
   ]
  },
  {
   "cell_type": "markdown",
   "id": "c322fb6d",
   "metadata": {},
   "source": [
    "## Read JSON file and store each field/value in {Key:Value} pair (dictionary)"
   ]
  },
  {
   "cell_type": "code",
   "execution_count": 5,
   "id": "be4fac10",
   "metadata": {},
   "outputs": [
    {
     "name": "stdout",
     "output_type": "stream",
     "text": [
      "name: Expense Parser\n",
      "name: Invoice Parser\n",
      "name: Procurement Document Splitter & Classifier\n",
      "name: Utility Parser\n",
      "name: Expense Parser\n",
      "name: Invoice Parser\n",
      "name: Procurement Document Splitter & Classifier\n",
      "name: Utility Parser\n",
      "solution_type: Procurement\n",
      "solution_type: Procurement\n",
      "solution_type: Procurement\n",
      "solution_type: Procurement\n",
      "solution_type: Procurement\n",
      "solution_type: Procurement\n",
      "solution_type: Procurement\n",
      "solution_type: Procurement\n",
      "release_stage: General availability\n",
      "release_stage: General availability\n",
      "release_stage: General availability\n",
      "release_stage: General availability\n",
      "release_stage: General availability\n",
      "release_stage: General availability\n",
      "release_stage: General availability\n",
      "release_stage: General availability\n",
      "access: public\n",
      "access: public\n",
      "access: limited\n",
      "access: limited\n",
      "access: public\n",
      "access: public\n",
      "access: limited\n",
      "access: limited\n",
      "notes: ['Fields enriched by Google Knowledge Graph: supplier_address, supplier_name.', 'Languages supported: Dutch, English, French, German, Spanish.']\n",
      "notes: ['Fields enhanced by Google Knowledge Graph: supplier_address, supplier_name.', 'Languages supported: Dutch, English, French, German, Spanish.']\n",
      "notes: ['Languages supported: English']\n",
      "notes: ['Fields enhanced by Google Knowledge Graph: supplier_address, supplier_name, supplier_phone']\n",
      "notes: ['Fields enriched by Google Knowledge Graph: supplier_address, supplier_name.', 'Languages supported: Dutch, English, French, German, Spanish.']\n",
      "notes: ['Fields enhanced by Google Knowledge Graph: supplier_address, supplier_name.', 'Languages supported: Dutch, English, French, German, Spanish.']\n",
      "notes: ['Languages supported: English']\n",
      "notes: ['Fields enhanced by Google Knowledge Graph: supplier_address, supplier_name, supplier_phone']\n",
      "fields_returned: ['currency', 'end_date', 'net_amount', 'purchase_time', 'receipt_date', 'start_date', 'supplier_address', 'supplier_city', 'supplier_name', 'tip_amount', 'total_amount', 'total_tax_amount', 'line_item', 'line_item/amount', 'line_item/description', 'line_item/product_code']\n",
      "fields_returned: ['due_date', 'ship_to_name', 'currency', 'total_amount', 'amount_paid_since_last_invoice', 'carrier', 'currency_exchange_rate', 'receiver_tax_id', 'delivery_date', 'freight_amount', 'invoice_date', 'invoice_id', 'line_item/amount', 'line_item/description', 'line_item/product_code', 'line_item/purchase_order', 'line_item/quantity', 'line_item/unit', 'line_item/unit_price', 'net_amount', 'payment_terms', 'purchase_order', 'receiver_address', 'receiver_email', 'receiver_name', 'receiver_phone', 'receiver_website', 'remit_to_address', 'remit_to_name', 'ship_from_address', 'ship_from_name', 'ship_to_address', 'supplier_address', 'supplier_email', 'supplier_iban', 'supplier_name', 'supplier_payment_ref', 'supplier_registration', 'supplier_tax_id', 'supplier_website', 'total_tax_amount', 'vat/amount', 'vat/category_code', 'vat/tax_amount', 'vat/tax_rate', 'supplier_phone']\n",
      "fields_returned: []\n",
      "fields_returned: ['adjusted_amount', 'amount_due', 'currency', 'due_date', 'invoice_date', 'invoice_id', 'late_fee_amount', 'net_amount', 'prior_amount_due', 'prior_paid_amount', 'receiver_name', 'receiver_tax_id', 'remit_to_address', 'remit_to_name', 'purchase_order', 'service_address', 'service_end_date', 'service_id', 'service_start_date', 'supplier_account_number', 'supplier_address', 'supplier_email', 'supplier_name', 'supplier_phone', 'supplier_registration', 'supplier_tax_id', 'supplier_website', 'total_amount', 'total_tax_amount', 'line_item/amount', 'line_item/description', 'line_item/product_code', 'line_item/quantity', 'line_item/service_end_date', 'line_item/service_start_date', 'line_item/tax_amount', 'line_item/unit', 'line_item/unit_price', 'line_item/usage']\n",
      "fields_returned: ['currency', 'end_date', 'net_amount', 'purchase_time', 'receipt_date', 'start_date', 'supplier_address', 'supplier_city', 'supplier_name', 'tip_amount', 'total_amount', 'total_tax_amount', 'line_item', 'line_item/amount', 'line_item/description', 'line_item/product_code']\n",
      "fields_returned: ['due_date', 'ship_to_name', 'currency', 'total_amount', 'amount_paid_since_last_invoice', 'carrier', 'currency_exchange_rate', 'receiver_tax_id', 'delivery_date', 'freight_amount', 'invoice_date', 'invoice_id', 'line_item/amount', 'line_item/description', 'line_item/product_code', 'line_item/purchase_order', 'line_item/quantity', 'line_item/unit', 'line_item/unit_price', 'net_amount', 'payment_terms', 'purchase_order', 'receiver_address', 'receiver_email', 'receiver_name', 'receiver_phone', 'receiver_website', 'remit_to_address', 'remit_to_name', 'ship_from_address', 'ship_from_name', 'ship_to_address', 'supplier_address', 'supplier_email', 'supplier_iban', 'supplier_name', 'supplier_payment_ref', 'supplier_registration', 'supplier_tax_id', 'supplier_website', 'total_tax_amount', 'vat/amount', 'vat/category_code', 'vat/tax_amount', 'vat/tax_rate', 'supplier_phone']\n",
      "fields_returned: []\n",
      "fields_returned: ['adjusted_amount', 'amount_due', 'currency', 'due_date', 'invoice_date', 'invoice_id', 'late_fee_amount', 'net_amount', 'prior_amount_due', 'prior_paid_amount', 'receiver_name', 'receiver_tax_id', 'remit_to_address', 'remit_to_name', 'purchase_order', 'service_address', 'service_end_date', 'service_id', 'service_start_date', 'supplier_account_number', 'supplier_address', 'supplier_email', 'supplier_name', 'supplier_phone', 'supplier_registration', 'supplier_tax_id', 'supplier_website', 'total_amount', 'total_tax_amount', 'line_item/amount', 'line_item/description', 'line_item/product_code', 'line_item/quantity', 'line_item/service_end_date', 'line_item/service_start_date', 'line_item/tax_amount', 'line_item/unit', 'line_item/unit_price', 'line_item/usage']\n",
      "file_types: PDF, TIFF, GIF, JPEG, PNG, BMP, WEBP\n",
      "file_types: PDF, TIFF, GIF, JPEG, PNG, BMP, WEBP\n",
      "file_types: PDF, TIFF\n",
      "file_types: PDF, TIFF, GIF, JPEG, PNG, BMP, WEBP\n",
      "file_types: PDF, TIFF, GIF, JPEG, PNG, BMP, WEBP\n",
      "file_types: PDF, TIFF, GIF, JPEG, PNG, BMP, WEBP\n",
      "file_types: PDF, TIFF\n",
      "file_types: PDF, TIFF, GIF, JPEG, PNG, BMP, WEBP\n",
      "max_pages_sync: 10\n",
      "max_pages_sync: 10\n",
      "max_pages_sync: 15\n",
      "max_pages_sync: 10\n",
      "max_pages_sync: 10\n",
      "max_pages_sync: 10\n",
      "max_pages_sync: 15\n",
      "max_pages_sync: 10\n",
      "max_pages_async: 10\n",
      "max_pages_async: 200\n",
      "max_pages_async: 1250\n",
      "max_pages_async: 200\n",
      "max_pages_async: 10\n",
      "max_pages_async: 200\n",
      "max_pages_async: 1250\n",
      "max_pages_async: 200\n",
      "max_file_size: 20Mb\n",
      "max_file_size: 20Mb\n",
      "max_file_size: 1024Mb (1Gb)\n",
      "max_file_size: 20Mb\n",
      "max_file_size: 20Mb\n",
      "max_file_size: 20Mb\n",
      "max_file_size: 1024Mb (1Gb)\n",
      "max_file_size: 20Mb\n"
     ]
    }
   ],
   "source": [
    "parsors_info_dict = {}\n",
    "parsors_info_list = []\n",
    "for fields in fields_list:\n",
    "    parsors_info_dict[fields] = json_extract2(data, fields) # This code will created new key as well as assign values to it\n",
    "    if parsors_info_dict[fields] not in parsors_info_list:\n",
    "        parsors_info_list.append(json_extract2(data, fields))"
   ]
  },
  {
   "cell_type": "markdown",
   "id": "e783d4fa",
   "metadata": {},
   "source": [
    "## Extract \"Languages\" from notes fields <html><body<p></P></body></html> (as it contain other info as well) and update the dictionary accordingly."
   ]
  },
  {
   "cell_type": "code",
   "execution_count": 6,
   "id": "44f8e444",
   "metadata": {},
   "outputs": [
    {
     "name": "stdout",
     "output_type": "stream",
     "text": [
      "[' Dutch, English, French, German, Spanish.', ' Dutch, English, French, German, Spanish.', ' English', 'NA']\n"
     ]
    }
   ],
   "source": [
    "language = []\n",
    "for item in parsors_info_dict[\"notes\"]:\n",
    "    # Check if notes contains Language Information or not\n",
    "    if str(item).find('Languages supported') != -1:\n",
    "        language.append(str(item).split(\":\")[-1].split(\"'\")[0])\n",
    "    else:\n",
    "        language.append(\"NA\")\n",
    "print(language)    \n",
    "\n",
    "# Finally update the \"notes\" in original dictionary\n",
    "parsors_info_dict[\"notes\"] = list(language)"
   ]
  },
  {
   "cell_type": "markdown",
   "id": "6b480618",
   "metadata": {},
   "source": [
    "## Final step - Write data to Excel file"
   ]
  },
  {
   "cell_type": "code",
   "execution_count": 7,
   "id": "54e517e3",
   "metadata": {},
   "outputs": [],
   "source": [
    "import xlwt\n",
    "from xlwt import Workbook\n",
    "  \n",
    "# Workbook is created\n",
    "wb = Workbook()\n",
    "  \n",
    "# add_sheet is used to create sheet.\n",
    "sheet1 = wb.add_sheet('Parsor_info')\n",
    "\n",
    "style = xlwt.easyxf('font: bold 1,height 200;')\n",
    "for i in range(0,len(fields_list)):\n",
    "    sheet1.write(i,0,fields_list[i].capitalize(), style = style)\n",
    "\n",
    "row = 0\n",
    "for i in parsors_info_dict.values():\n",
    "    column = 0\n",
    "    for j in range(0,len(i)):\n",
    "        #sheet1.write(row,column+1,value)\n",
    "        #sheet1.write(row,column+1,i[column])\n",
    "        if type(i[column]) is list:\n",
    "            sheet1.write(row,column+1,str(i[column]).split(\",\"))\n",
    "        else:\n",
    "            sheet1.write(row,column+1,i[column])\n",
    "        column = column + 1\n",
    "    row = row+1\n",
    "wb.save('parsor_info.xls')"
   ]
  },
  {
   "cell_type": "markdown",
   "id": "162e55c7",
   "metadata": {},
   "source": [
    "## ----------------------------------------------------------------------------------------------------------------------------------"
   ]
  },
  {
   "cell_type": "markdown",
   "id": "be33c404",
   "metadata": {},
   "source": [
    "## Code below this section is for reference purpose only"
   ]
  },
  {
   "cell_type": "markdown",
   "id": "f64739c7",
   "metadata": {},
   "source": [
    "## ----------------------------------------------------------------------------------------------------------------------------------"
   ]
  },
  {
   "cell_type": "markdown",
   "id": "748434e9",
   "metadata": {},
   "source": []
  },
  {
   "cell_type": "markdown",
   "id": "85233924",
   "metadata": {},
   "source": [
    "## (Optional) Loop in the dictionary to check if all values are correctly updated or not"
   ]
  },
  {
   "cell_type": "code",
   "execution_count": null,
   "id": "9ae2ebf8",
   "metadata": {},
   "outputs": [],
   "source": [
    "final_data = []\n",
    "for i, j in parsors_info_dict.items():\n",
    "    if i != 'fields_returned':\n",
    "        final_data.append(\",\".join(j))\n",
    "    else:\n",
    "        final_data.append(str(list(map(''.join,j))))"
   ]
  },
  {
   "cell_type": "code",
   "execution_count": null,
   "id": "b3d58f07",
   "metadata": {},
   "outputs": [],
   "source": [
    "print(final_data)"
   ]
  },
  {
   "cell_type": "markdown",
   "id": "e6d0a7ae",
   "metadata": {},
   "source": [
    "## Create / Open the CSV file and write records to it "
   ]
  },
  {
   "cell_type": "code",
   "execution_count": null,
   "id": "650d7f2f",
   "metadata": {},
   "outputs": [],
   "source": [
    "with open('parsers_info_file.csv', 'a', encoding='UTF8', newline='') as f:\n",
    "    writer = csv.writer(f)\n",
    "\n",
    "    # write the header\n",
    "    writer.writerow(fields_list)\n",
    "\n",
    "    #write the data\n",
    "    #writer.writerows(zip(fields_list,final_data))\n",
    "    writer.writerows(parsors_info_dict.values())"
   ]
  },
  {
   "cell_type": "code",
   "execution_count": null,
   "id": "75c4cf5d",
   "metadata": {},
   "outputs": [],
   "source": [
    "print(parsors_info_dict.values())"
   ]
  },
  {
   "cell_type": "code",
   "execution_count": null,
   "id": "5b8a8abd",
   "metadata": {},
   "outputs": [],
   "source": [
    "\"\"\"Extract nested values from a JSON tree.\"\"\"\n",
    "def json_extract(obj, key):\n",
    "    \"\"\"Recursively fetch values from nested JSON.\"\"\"\n",
    "    arr = []\n",
    "    def extract(obj, arr, key):\n",
    "        \"\"\"Recursively search for values of key in JSON tree.\"\"\"\n",
    "        if isinstance(obj, dict):\n",
    "            for k, v in obj.items():\n",
    "                if isinstance(v, (dict, list)):\n",
    "                    extract(v, arr, key)\n",
    "                elif k == key:\n",
    "                    arr.append(v)\n",
    "        elif isinstance(obj, list):\n",
    "            for item in obj:\n",
    "                extract(item, arr, key)\n",
    "        return arr\n",
    "    values = extract(obj, arr, key)\n",
    "    return values"
   ]
  },
  {
   "cell_type": "code",
   "execution_count": null,
   "id": "ca6752d9",
   "metadata": {},
   "outputs": [],
   "source": [
    "print(json_extract(data,\"name\"))\n"
   ]
  },
  {
   "cell_type": "code",
   "execution_count": null,
   "id": "3e761435",
   "metadata": {},
   "outputs": [],
   "source": [
    "def parse_json_recursively(json_object, target_key):\n",
    "    arr1 = []\n",
    "    if type(json_object) is dict and json_object:\n",
    "        for key in json_object:\n",
    "            if key == target_key:\n",
    "                arr1.append(json_object[key])\n",
    "            parse_json_recursively(json_object[key], target_key)\n",
    "\n",
    "    elif type(json_object) is list and json_object:\n",
    "        for item in json_object:\n",
    "            parse_json_recursively(item, target_key)\n",
    "    return arr1\n"
   ]
  },
  {
   "cell_type": "code",
   "execution_count": null,
   "id": "48c8aaa3",
   "metadata": {},
   "outputs": [],
   "source": [
    "print(parse_json_recursively(data,\"name\"))"
   ]
  },
  {
   "cell_type": "code",
   "execution_count": null,
   "id": "add865bd",
   "metadata": {},
   "outputs": [],
   "source": [
    "print(json_extract2(data,\"notes\"))"
   ]
  },
  {
   "cell_type": "code",
   "execution_count": null,
   "id": "a5f9de8a",
   "metadata": {},
   "outputs": [],
   "source": [
    "print(myarr)"
   ]
  },
  {
   "cell_type": "code",
   "execution_count": null,
   "id": "cefe72a0",
   "metadata": {},
   "outputs": [],
   "source": [
    "# Now, we should be adding all these fields and their corresponding values in a dictionary"
   ]
  },
  {
   "cell_type": "code",
   "execution_count": null,
   "id": "f01dc6fa",
   "metadata": {},
   "outputs": [],
   "source": []
  },
  {
   "cell_type": "code",
   "execution_count": null,
   "id": "6d6c782c",
   "metadata": {},
   "outputs": [],
   "source": [
    "print(parsors_info[\"notes\"])"
   ]
  },
  {
   "cell_type": "code",
   "execution_count": null,
   "id": "cefc9d57",
   "metadata": {},
   "outputs": [],
   "source": [
    "# newlist = [expression for item in iterable if condition == True]"
   ]
  },
  {
   "cell_type": "code",
   "execution_count": null,
   "id": "f5cdfe05",
   "metadata": {},
   "outputs": [],
   "source": [
    "#parsors_info.pop(\"notes\")\n",
    "parsors_info['Language Supported':str(language)]"
   ]
  },
  {
   "cell_type": "code",
   "execution_count": null,
   "id": "1f64b06d",
   "metadata": {},
   "outputs": [],
   "source": [
    "# processors = list(zip(names,filetypes))"
   ]
  },
  {
   "cell_type": "code",
   "execution_count": null,
   "id": "314ff7d9",
   "metadata": {},
   "outputs": [],
   "source": [
    "print(data)"
   ]
  },
  {
   "cell_type": "code",
   "execution_count": null,
   "id": "5642f3db",
   "metadata": {},
   "outputs": [],
   "source": [
    "parsors_info.keys()"
   ]
  },
  {
   "cell_type": "code",
   "execution_count": null,
   "id": "cfa864c4",
   "metadata": {},
   "outputs": [],
   "source": [
    "parsors_info.values()"
   ]
  },
  {
   "cell_type": "code",
   "execution_count": null,
   "id": "6e800ddb",
   "metadata": {},
   "outputs": [],
   "source": []
  },
  {
   "cell_type": "code",
   "execution_count": null,
   "id": "2b35b172",
   "metadata": {},
   "outputs": [],
   "source": [
    "# Opening JSON file\n",
    "with open('procurement.json') as f:\n",
    "    data = json.load(f)\n"
   ]
  },
  {
   "cell_type": "code",
   "execution_count": null,
   "id": "1da3b585",
   "metadata": {},
   "outputs": [],
   "source": [
    "# Opening JSON file\n",
    "with open('procurement.json') as f:\n",
    "    data = json.load(f)\n",
    "processors_data = data['processors']\n",
    "\n",
    "outfile = open('output.csv','a')\n",
    "csv_writer = csv.writer(outfile)\n",
    "\n",
    "count = 0\n",
    "for proc in processors_data:\n",
    "        if count == 0:\n",
    "            header = proc.keys()\n",
    "            csv_writer.writerow(header)\n",
    "            count = count+1\n",
    "        csv_writer.writerow(proc.values())\n",
    "outfile.close()"
   ]
  },
  {
   "cell_type": "code",
   "execution_count": null,
   "id": "f83fc2d5",
   "metadata": {},
   "outputs": [],
   "source": []
  }
 ],
 "metadata": {
  "kernelspec": {
   "display_name": "Python 3",
   "language": "python",
   "name": "python3"
  },
  "language_info": {
   "codemirror_mode": {
    "name": "ipython",
    "version": 3
   },
   "file_extension": ".py",
   "mimetype": "text/x-python",
   "name": "python",
   "nbconvert_exporter": "python",
   "pygments_lexer": "ipython3",
   "version": "3.9.4"
  }
 },
 "nbformat": 4,
 "nbformat_minor": 5
}
